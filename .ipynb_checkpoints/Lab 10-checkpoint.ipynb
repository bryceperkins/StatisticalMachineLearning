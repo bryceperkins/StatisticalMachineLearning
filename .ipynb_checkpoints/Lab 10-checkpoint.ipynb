{
 "cells": [
  {
   "cell_type": "code",
   "execution_count": 52,
   "metadata": {
    "collapsed": false
   },
   "outputs": [],
   "source": [
    "import matplotlib.pyplot as plt\n",
    "import matplotlib\n",
    "from __future__ import division"
   ]
  },
  {
   "cell_type": "code",
   "execution_count": 73,
   "metadata": {
    "collapsed": true
   },
   "outputs": [],
   "source": [
    "import numpy as np\n",
    "def p( x, t=1.0 ):\n",
    "    return np.exp( -10*t*((x-2)**2) ) + 0.3*np.exp( -0.5*10*t*((x+1)**2) )\n",
    "\n",
    "def metropolisHastings(variance, steps):\n",
    "    a=[0]\n",
    "    accepted = 0\n",
    "    for i in xrange(steps):\n",
    "        xPrime = np.random.normal(a[i], variance) \n",
    "        r = np.min([1, p(xPrime) / p(a[i])])\n",
    "        u = np.random.uniform(0,1)\n",
    "        \n",
    "        if u < r:\n",
    "            accepted += 1\n",
    "            a.append( xPrime )\n",
    "        else:\n",
    "            a.append(a[i])\n",
    "    print \"Variance: %.1f\" % variance\n",
    "    print \"Acceptance: %.4f\" % (accepted/steps)\n",
    "    return a\n",
    "            \n",
    "def graphHistogram(data):\n",
    "    x_curve = np.arange(-3, 3, 0.01)\n",
    "    y_curve = [p(x) for x in x_curve]\n",
    "    \n",
    "    \n",
    "    \n"
   ]
  },
  {
   "cell_type": "code",
   "execution_count": 75,
   "metadata": {
    "collapsed": false
   },
   "outputs": [
    {
     "name": "stdout",
     "output_type": "stream",
     "text": [
      "Variance: 0.1\n",
      "Acceptance: 0.8981\n",
      "Variance: 1.0\n",
      "Acceptance: 0.2979\n",
      "Variance: 10.0\n",
      "Acceptance: 0.0553\n",
      "Variance: 0.1\n",
      "Acceptance: 0.8915\n",
      "Variance: 1.0\n",
      "Acceptance: 0.2967\n",
      "Variance: 10.0\n",
      "Acceptance: 0.0578\n",
      "Variance: 0.1\n",
      "Acceptance: 0.9002\n",
      "Variance: 1.0\n",
      "Acceptance: 0.3108\n",
      "Variance: 10.0\n",
      "Acceptance: 0.0519\n"
     ]
    }
   ],
   "source": [
    "variance01=[]\n",
    "variance1=[]\n",
    "variance10=[]\n",
    "\n",
    "for i in xrange(3):\n",
    "    variance01.append(metropolisHastings(.1,10000))\n",
    "    variance1.append(metropolisHastings(1,10000))\n",
    "    variance10.append(metropolisHastings(10,10000))"
   ]
  },
  {
   "cell_type": "code",
   "execution_count": 79,
   "metadata": {
    "collapsed": false
   },
   "outputs": [
    {
     "data": {
      "image/png": "[encoded data removed]",
      "text/plain": [
       "<matplotlib.figure.Figure at 0x7a13e10>"
      ]
     },
     "metadata": {},
     "output_type": "display_data"
    }
   ],
   "source": [
    "x_curve = np.arange(-3, 3, 0.01)\n",
    "y_curve = [p(x) for x in x_curve]\n",
    "plt.title=(\"Proposal Variance: 0.1\")\n",
    "plt.plot(x_curve, y_curve, color=\"red\")\n",
    "plt.hist(variance01[0],normed=True,bins=100, color=\"blue\")\n",
    "plt.show()"
   ]
  },
  {
   "cell_type": "code",
   "execution_count": null,
   "metadata": {
    "collapsed": true
   },
   "outputs": [],
   "source": []
  }
 ],
 "metadata": {
  "kernelspec": {
   "display_name": "Python 2",
   "language": "python",
   "name": "python2"
  },
  "language_info": {
   "codemirror_mode": {
    "name": "ipython",
    "version": 2
   },
   "file_extension": ".py",
   "mimetype": "text/x-python",
   "name": "python",
   "nbconvert_exporter": "python",
   "pygments_lexer": "ipython2",
   "version": "2.7.12"
  }
 },
 "nbformat": 4,
 "nbformat_minor": 2
}
