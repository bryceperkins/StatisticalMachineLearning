{
 "cells": [
  {
   "cell_type": "code",
   "execution_count": 39,
   "metadata": {
    "collapsed": false
   },
   "outputs": [],
   "source": [
    "import matplotlib.pyplot as plt\n",
    "import numpy as np\n",
    "import scipy.stats as stats\n",
    "import scipy.io\n",
    "\n",
    "dataImported = scipy.io.loadmat('old_faithful.mat')\n",
    "#print data\n",
    "%matplotlib inline\n",
    "# the Gaussian means (as column vectors -- ie, the mean for Gaussian 0 is mus[:,0]\n",
    "mus = np.asarray( [[-1.17288986, -0.11642103],\n",
    "                   [-0.16526981,  0.70142713]])\n",
    " \n",
    "# the Gaussian covariance matrices\n",
    "covs = list()\n",
    "covs.append( \n",
    "    np.asarray([[ 0.74072815,  0.09252716],\n",
    "                [ 0.09252716,  0.5966275 ]]) )\n",
    "covs.append( \n",
    "    np.asarray([[ 0.39312776, -0.46488887],\n",
    "                [-0.46488887,  1.64990767]]) )\n",
    " \n",
    "# The Gaussian mixing weights\n",
    "mws = [ 0.68618439, 0.31381561 ]\n",
    "\n",
    "data = dataImported.get(\"data\") "
   ]
  },
  {
   "cell_type": "code",
   "execution_count": 65,
   "metadata": {
    "collapsed": false
   },
   "outputs": [],
   "source": [
    "def cov_to_pts( cov ):\n",
    "    circ = np.linspace( 0, 2*np.pi, 100 )\n",
    "    sf = np.asarray( [ np.cos( circ ), np.sin( circ ) ] )\n",
    "    [u,s,v] = np.linalg.svd( cov )\n",
    "    pmat = u*2.447*np.sqrt(s) # 95% confidence\n",
    "    return np.dot(  pmat, sf )\n",
    "\n",
    "#Compute the responsibilities r_ik (Eq. 11.27)\n",
    "def compute_responsibilities( datapoints_matrix, mu, mw, cov):\n",
    "    n = mw * scipy.stats.multivariate_normal.pdf(datapoints_matrix, mean=mu, cov=cov)\n",
    "    return n#build_matrix(n[0],n[1])\n",
    "    \n",
    "#Update the mixing weights π_k (Eq. 11.28)\n",
    "def update_mixing_weights():\n",
    "    return 0\n",
    "    \n",
    "#Update the covariances Σk (Eq. 11.32)\n",
    "def update_covariance():\n",
    "    return 0\n",
    "\n",
    "#Update the means μk (Eq. 11.31)\n",
    "def update_means():\n",
    "    return 0\n",
    "    \n",
    "def build_matrix(list1,list2):    \n",
    "    builtMatrix = np.column_stack((list1, list2))\n",
    "    return builtMatrix\n",
    "    \n",
    "def plot_the_stuff(stuff):\n",
    "    return 0\n",
    "\n",
    "def normalize_this_matrix(some_matrix):\n",
    "    norm_matrix = some_matrix-some_matrix.mean(axis=0)\n",
    "    return norm_matrix"
   ]
  },
  {
   "cell_type": "code",
   "execution_count": 66,
   "metadata": {
    "collapsed": false
   },
   "outputs": [
    {
     "data": {
      "text/plain": [
       "[<matplotlib.lines.Line2D at 0xe4ec390>]"
      ]
     },
     "execution_count": 66,
     "metadata": {},
     "output_type": "execute_result"
    },
    {
     "data": {
      "image/png": "[encoded data removed]",
      "text/plain": [
       "<matplotlib.figure.Figure at 0xcdec278>"
      ]
     },
     "metadata": {},
     "output_type": "display_data"
    }
   ],
   "source": [
    "xvals = []\n",
    "yvals = []\n",
    "\n",
    "xvals = data[:,0]\n",
    "yvals = data[:,1]\n",
    "\n",
    "xy_matrix = build_matrix(xvals,yvals)\n",
    "\n",
    "xy_matrix_normalized = normalize_this_matrix(xy_matrix)\n",
    "\n",
    "covs1 = cov_to_pts(covs[0]) \n",
    "covs2 = cov_to_pts(covs[1])\n",
    "plt.scatter(xy_matrix_normalized[:,0],xy_matrix_normalized[:,1])\n",
    "plt.plot(covs1[0],covs1[1])\n",
    "plt.plot(covs2[0],covs2[1])"
   ]
  },
  {
   "cell_type": "code",
   "execution_count": null,
   "metadata": {
    "collapsed": false
   },
   "outputs": [],
   "source": []
  },
  {
   "cell_type": "code",
   "execution_count": 80,
   "metadata": {
    "collapsed": false
   },
   "outputs": [
    {
     "name": "stdout",
     "output_type": "stream",
     "text": [
      "272\n",
      "272\n"
     ]
    },
    {
     "ename": "TypeError",
     "evalue": "list indices must be integers, not tuple",
     "output_type": "error",
     "traceback": [
      "\u001b[0;31m---------------------------------------------------------------------------\u001b[0m",
      "\u001b[0;31mTypeError\u001b[0m                                 Traceback (most recent call last)",
      "\u001b[0;32m<ipython-input-80-b24258998c6b>\u001b[0m in \u001b[0;36m<module>\u001b[0;34m()\u001b[0m\n\u001b[1;32m     11\u001b[0m         \u001b[1;31m#print responsibility\u001b[0m\u001b[1;33m\u001b[0m\u001b[1;33m\u001b[0m\u001b[0m\n\u001b[1;32m     12\u001b[0m     \u001b[1;31m#print totalResponsibility\u001b[0m\u001b[1;33m\u001b[0m\u001b[1;33m\u001b[0m\u001b[0m\n\u001b[0;32m---> 13\u001b[0;31m     \u001b[0mn\u001b[0m \u001b[1;33m=\u001b[0m \u001b[0mbuild_matrix\u001b[0m\u001b[1;33m(\u001b[0m\u001b[0mresponsibilities\u001b[0m\u001b[1;33m[\u001b[0m\u001b[1;33m:\u001b[0m\u001b[1;33m,\u001b[0m\u001b[1;36m0\u001b[0m\u001b[1;33m]\u001b[0m\u001b[1;33m,\u001b[0m\u001b[0mresponsibility\u001b[0m\u001b[1;33m[\u001b[0m\u001b[1;33m:\u001b[0m\u001b[1;33m,\u001b[0m\u001b[1;36m1\u001b[0m\u001b[1;33m]\u001b[0m\u001b[1;33m)\u001b[0m\u001b[1;33m\u001b[0m\u001b[0m\n\u001b[0m\u001b[1;32m     14\u001b[0m     \u001b[1;32mprint\u001b[0m \u001b[0mn\u001b[0m\u001b[1;33m\u001b[0m\u001b[0m\n\u001b[1;32m     15\u001b[0m     \u001b[1;31m#normalized_responsibilities = normalize_this_matrix(responsibilities)\u001b[0m\u001b[1;33m\u001b[0m\u001b[1;33m\u001b[0m\u001b[0m\n",
      "\u001b[0;31mTypeError\u001b[0m: list indices must be integers, not tuple"
     ]
    }
   ],
   "source": [
    "#run it 33 times to match pictures\n",
    "for x in xrange(1): \n",
    "    totalResponsibility = 0\n",
    "    responsibilities = []\n",
    "    for m in xrange(len(mws)):\n",
    "        responsibility = compute_responsibilities(xy_matrix_normalized,mus[m],mws[m],covs[m] )\n",
    "        responsibilities.append(responsibility.tolist())\n",
    "        print len(responsibility)\n",
    "        #responsibility.tolist\n",
    "        totalResponsibility += responsibility\n",
    "        #print responsibility\n",
    "    #print totalResponsibility\n",
    "    n = build_matrix(responsibilities[:,0],responsibility[:,1])\n",
    "    print n\n",
    "    #normalized_responsibilities = normalize_this_matrix(responsibilities)\n",
    "        \n",
    "    "
   ]
  },
  {
   "cell_type": "code",
   "execution_count": null,
   "metadata": {
    "collapsed": false
   },
   "outputs": [],
   "source": [
    "\n",
    "    "
   ]
  },
  {
   "cell_type": "code",
   "execution_count": 6,
   "metadata": {
    "collapsed": false
   },
   "outputs": [
    {
     "name": "stdout",
     "output_type": "stream",
     "text": [
      "mwsTi: [0.68618439, 0.31381561]\n",
      "musTi: [[-1.17288986 -0.11642103]\n",
      " [-0.16526981  0.70142713]]\n",
      "covs:  [array([[ 0.74072815,  0.09252716],\n",
      "       [ 0.09252716,  0.5966275 ]]), array([[ 0.39312776, -0.46488887],\n",
      "       [-0.46488887,  1.64990767]])]\n",
      "iteration: 1\n",
      "mwsT:  [ 0.0483107  0.9516893]\n",
      "musT:  [[-0.25666029 -1.6537907 ]\n",
      " [ 0.01302887  0.08395154]]\n"
     ]
    },
    {
     "ename": "NameError",
     "evalue": "name 'update_covariance' is not defined",
     "output_type": "error",
     "traceback": [
      "\u001b[0;31m---------------------------------------------------------------------------\u001b[0m",
      "\u001b[0;31mNameError\u001b[0m                                 Traceback (most recent call last)",
      "\u001b[0;32m<ipython-input-6-ccf76c9f4adb>\u001b[0m in \u001b[0;36m<module>\u001b[0;34m()\u001b[0m\n\u001b[1;32m     53\u001b[0m     \u001b[0mcovsT\u001b[0m\u001b[1;33m[\u001b[0m\u001b[1;36m0\u001b[0m\u001b[1;33m]\u001b[0m \u001b[1;33m=\u001b[0m \u001b[0mnp\u001b[0m\u001b[1;33m.\u001b[0m\u001b[0msqrt\u001b[0m\u001b[1;33m(\u001b[0m\u001b[0mnp\u001b[0m\u001b[1;33m.\u001b[0m\u001b[0msum\u001b[0m\u001b[1;33m(\u001b[0m\u001b[0mgm\u001b[0m\u001b[1;33m.\u001b[0m\u001b[0mdot\u001b[0m\u001b[1;33m(\u001b[0m\u001b[0mpow\u001b[0m\u001b[1;33m(\u001b[0m\u001b[0mValsMatrix\u001b[0m\u001b[1;33m-\u001b[0m\u001b[0mmusT\u001b[0m\u001b[1;33m[\u001b[0m\u001b[1;33m:\u001b[0m\u001b[1;33m,\u001b[0m\u001b[0mnp\u001b[0m\u001b[1;33m.\u001b[0m\u001b[0mnewaxis\u001b[0m\u001b[1;33m]\u001b[0m\u001b[1;33m,\u001b[0m\u001b[1;36m2\u001b[0m\u001b[1;33m)\u001b[0m\u001b[1;33m)\u001b[0m\u001b[1;33m,\u001b[0m\u001b[0maxis\u001b[0m\u001b[1;33m=\u001b[0m\u001b[1;36m1\u001b[0m\u001b[1;33m)\u001b[0m\u001b[1;33m/\u001b[0m\u001b[0mnp\u001b[0m\u001b[1;33m.\u001b[0m\u001b[0msum\u001b[0m\u001b[1;33m(\u001b[0m\u001b[0mgm\u001b[0m\u001b[1;33m,\u001b[0m\u001b[0maxis\u001b[0m\u001b[1;33m=\u001b[0m\u001b[1;36m1\u001b[0m\u001b[1;33m)\u001b[0m\u001b[1;33m)\u001b[0m\u001b[1;33m\u001b[0m\u001b[0m\n\u001b[1;32m     54\u001b[0m     \u001b[0mcovsT\u001b[0m\u001b[1;33m[\u001b[0m\u001b[1;36m1\u001b[0m\u001b[1;33m]\u001b[0m \u001b[1;33m=\u001b[0m \u001b[0mnp\u001b[0m\u001b[1;33m.\u001b[0m\u001b[0msqrt\u001b[0m\u001b[1;33m(\u001b[0m\u001b[0mnp\u001b[0m\u001b[1;33m.\u001b[0m\u001b[0msum\u001b[0m\u001b[1;33m(\u001b[0m\u001b[0mgm\u001b[0m\u001b[1;33m.\u001b[0m\u001b[0mdot\u001b[0m\u001b[1;33m(\u001b[0m\u001b[0mpow\u001b[0m\u001b[1;33m(\u001b[0m\u001b[0mValsMatrix\u001b[0m\u001b[1;33m-\u001b[0m\u001b[0mmusT\u001b[0m\u001b[1;33m[\u001b[0m\u001b[1;33m:\u001b[0m\u001b[1;33m,\u001b[0m\u001b[1;36m1\u001b[0m\u001b[1;33m]\u001b[0m\u001b[1;33m,\u001b[0m\u001b[1;36m2\u001b[0m\u001b[1;33m)\u001b[0m\u001b[1;33m)\u001b[0m\u001b[1;33m,\u001b[0m\u001b[0maxis\u001b[0m\u001b[1;33m=\u001b[0m\u001b[1;36m1\u001b[0m\u001b[1;33m)\u001b[0m\u001b[1;33m/\u001b[0m\u001b[0mnp\u001b[0m\u001b[1;33m.\u001b[0m\u001b[0msum\u001b[0m\u001b[1;33m(\u001b[0m\u001b[0mgm\u001b[0m\u001b[1;33m,\u001b[0m\u001b[0maxis\u001b[0m\u001b[1;33m=\u001b[0m\u001b[1;36m1\u001b[0m\u001b[1;33m)\u001b[0m\u001b[1;33m)\u001b[0m\u001b[1;33m\u001b[0m\u001b[0m\n\u001b[0;32m---> 55\u001b[0;31m     \u001b[0mupdate_covariance\u001b[0m\u001b[1;33m(\u001b[0m\u001b[0mNks\u001b[0m\u001b[1;33m[\u001b[0m\u001b[0mx\u001b[0m\u001b[1;33m]\u001b[0m\u001b[1;33m,\u001b[0m \u001b[0mnp\u001b[0m\u001b[1;33m.\u001b[0m\u001b[0matleast_2d\u001b[0m\u001b[1;33m(\u001b[0m\u001b[0mnormalized_responsibilities\u001b[0m\u001b[1;33m[\u001b[0m\u001b[1;33m:\u001b[0m\u001b[1;33m,\u001b[0m\u001b[0mx\u001b[0m\u001b[1;33m]\u001b[0m\u001b[1;33m)\u001b[0m\u001b[1;33m.\u001b[0m\u001b[0mT\u001b[0m\u001b[1;33m,\u001b[0m \u001b[0mmeanMatrix\u001b[0m\u001b[1;33m,\u001b[0m \u001b[0mmus\u001b[0m\u001b[1;33m[\u001b[0m\u001b[0mx\u001b[0m\u001b[1;33m]\u001b[0m\u001b[1;33m)\u001b[0m\u001b[1;33m\u001b[0m\u001b[0m\n\u001b[0m\u001b[1;32m     56\u001b[0m \u001b[1;33m\u001b[0m\u001b[0m\n\u001b[1;32m     57\u001b[0m \u001b[1;32mdef\u001b[0m \u001b[0mupdate_covariance\u001b[0m\u001b[1;33m(\u001b[0m \u001b[0mNk\u001b[0m\u001b[1;33m,\u001b[0m \u001b[0mnormalized_responsibilities\u001b[0m\u001b[1;33m,\u001b[0m \u001b[0mmeanMatrix\u001b[0m\u001b[1;33m,\u001b[0m \u001b[0mmu\u001b[0m\u001b[1;33m)\u001b[0m\u001b[1;33m:\u001b[0m\u001b[1;33m\u001b[0m\u001b[0m\n",
      "\u001b[0;31mNameError\u001b[0m: name 'update_covariance' is not defined"
     ]
    }
   ],
   "source": [
    "\n",
    "import scipy.stats as stats\n",
    "gm = np.zeros((2,len(ValsMatrix)))\n",
    "mwsT = mws\n",
    "musT = mus\n",
    "covsT = covs\n",
    "print \"mwsTi:\", mwsT\n",
    "print \"musTi:\",musT\n",
    "print \"covs: \",covsT\n",
    "\n",
    "\n",
    "for i in range(1): #10 times\n",
    "    #E-Step\n",
    "    print \"iteration:\", i+1\n",
    "    \n",
    "    for m in range(2):\n",
    "        #print \"gm first: \", gm\n",
    "        \n",
    "        gm[m] = mwsT[m]*scipy.stats.multivariate_normal.pdf(ValsMatrix,musT[m],covsT[m])\n",
    "        #gm[m] = gm[m]/np.sum(gm[m])\n",
    "        #print \"sums: \",np.sum(gm[m])\n",
    "    \n",
    "    \n",
    "    \n",
    "    #print \"sums: \",np.sum(gm,axis=0)\n",
    "    gm = gm/np.sum(gm,axis=0)\n",
    "        #print \"gm: \",gm[m]\n",
    "    #print \"gm: \",gm.T\n",
    "    \n",
    "    \n",
    "    mwsT = np.sum(gm.T,axis=0)/len(ValsMatrix)\n",
    "    print \"mwsT: \", mwsT\n",
    "    #print \"gm: \",gm.shape\n",
    "    #print \"test: \",gm.dot(ValsMatrix)\n",
    "    #print \"vals: \",ValsMatrix.shape\n",
    "    #print ValsMatrix\n",
    "    #print \"gm: \", gm.T\n",
    "    #mu = np.sum(w_mt*x,axis=1)/np.sum(w_mt,axis=1)\n",
    "    #step = gm.dot(ValsMatrix)\n",
    "    \n",
    "    musT[0] = gm.dot(ValsMatrix)[0]/np.sum(gm,axis=1)[0]\n",
    "    musT[1] = gm.dot(ValsMatrix)[1]/np.sum(gm,axis=1)[1]\n",
    "    \n",
    "    #print \"--------------------------\"\n",
    "    #print gm.dot(ValsMatrix)\n",
    "    #print np.sum(gm,axis=1)\n",
    "    \n",
    "    print \"musT: \",musT\n",
    "    \n",
    "    #print \"gm shape: \", gm.shape\n",
    "    #print \"Vals Shape: \", ValsMatrix.shape\n",
    "    #print \"test: \", musT[:,np.newaxis]\n",
    "    covsT[0] = np.sqrt(np.sum(gm.dot(pow(ValsMatrix-musT[:,np.newaxis],2)),axis=1)/np.sum(gm,axis=1))\n",
    "    covsT[1] = np.sqrt(np.sum(gm.dot(pow(ValsMatrix-musT[:,1],2)),axis=1)/np.sum(gm,axis=1))\n",
    "    update_covariance(Nks[x], np.atleast_2d(normalized_responsibilities[:,x]).T, meanMatrix, mus[x])\n",
    "    \n",
    "def update_covariance( Nk, normalized_responsibilities, meanMatrix, mu):\n",
    "    sum = 0\n",
    "    for i in xrange(len(normalized_responsibilities)):\n",
    "        sum +=  normalized_responsibilities[i] * np.atleast_2d(meanMatrix[i] - mu).T.dot(np.atleast_2d(meanMatrix[i] - mu))\n",
    "    new_covariance = sum /  Nk\n",
    "    #print new_covariance\n",
    "    return new_covariance    \n",
    "    \n",
    "    #covsT[1] =\n",
    "    #print \"i dont know: \",musT[:,np.newaxis]\n",
    "    #print \"i dont know: \",musT\n",
    "    print \"covs: \", covsT\n",
    "plt.scatter(ValsMatrix[:,0], ValsMatrix[:,1], color=map(str, gm[:,0]))\n",
    "   \n",
    "    #MUS:  [[-0.25666029 -1.6537907 ]\n",
    "#[ 0.01302887  0.08395154]]\n",
    "\n"
   ]
  },
  {
   "cell_type": "code",
   "execution_count": null,
   "metadata": {
    "collapsed": false
   },
   "outputs": [],
   "source": [
    "plt.scatter(ValsMatrix[:,0], ValsMatrix[:,1], color=map(str, gm[:,0]))\n"
   ]
  },
  {
   "cell_type": "code",
   "execution_count": null,
   "metadata": {
    "collapsed": false
   },
   "outputs": [],
   "source": []
  },
  {
   "cell_type": "code",
   "execution_count": null,
   "metadata": {
    "collapsed": false
   },
   "outputs": [],
   "source": [
    "# extra code if  needed\n",
    "\n",
    "# compute the likelihood of a multivariate Gaussian\n",
    "scipy.stats.multivariate_normal.pdf\n",
    " \n",
    "# scatters a set of points; check out the \"c\" keyword argument to change color, and the \"s\" arg to change the size\n",
    "plt.scatter\n",
    "plt.xlim # sets the range of values for the x axis\n",
    "plt.ylim # sets the range of values for the y axis\n",
    " \n",
    "# to check the shape of a vector, use the .shape member\n",
    "foo = np.random.randn( 100, 200 )\n",
    "foo.shape # an array with values (100,200)\n",
    " \n",
    "# to transpose a vector, you can use the .T operator\n",
    "foo = np.atleast_2d( [42, 43] ) # this is a row vector\n",
    "foo.T # this is a column vector\n",
    " \n",
    "import numpy as np\n",
    "np.atleast_2d\n",
    "np.sum"
   ]
  },
  {
   "cell_type": "code",
   "execution_count": null,
   "metadata": {
    "collapsed": true
   },
   "outputs": [],
   "source": []
  }
 ],
 "metadata": {
  "kernelspec": {
   "display_name": "Python 2",
   "language": "python",
   "name": "python2"
  },
  "language_info": {
   "codemirror_mode": {
    "name": "ipython",
    "version": 2
   },
   "file_extension": ".py",
   "mimetype": "text/x-python",
   "name": "python",
   "nbconvert_exporter": "python",
   "pygments_lexer": "ipython2",
   "version": "2.7.12"
  }
 },
 "nbformat": 4,
 "nbformat_minor": 0
}
