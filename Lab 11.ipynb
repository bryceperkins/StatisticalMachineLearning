{
 "cells": [
  {
   "cell_type": "code",
   "execution_count": 1,
   "metadata": {
    "collapsed": false
   },
   "outputs": [],
   "source": [
    "import matplotlib.pyplot as plt\n",
    "import seaborn\n",
    "import pandas\n",
    "import numpy as np\n",
    "from collections import Counter\n",
    "import sys\n",
    "from scipy import stats"
   ]
  },
  {
   "cell_type": "code",
   "execution_count": 2,
   "metadata": {
    "collapsed": true
   },
   "outputs": [],
   "source": [
    "ur = pandas.read_csv('data/movieData/user_ratedmovies_train.dat','\\t')"
   ]
  },
  {
   "cell_type": "code",
   "execution_count": 3,
   "metadata": {
    "collapsed": false
   },
   "outputs": [],
   "source": [
    "plt.hist( ur['rating'] )\n",
    " \n",
    "# create a test/train split\n",
    " \n",
    "all_inds = np.random.permutation( range(0,len(ur)) )\n",
    "test_inds = all_inds[0:85000]\n",
    "train_inds = all_inds[85000:len(ur)]\n",
    " \n",
    "ur_test = ur.iloc[ test_inds ]\n",
    "ur_train = ur.iloc[ train_inds ]\n",
    "\n",
    "predictions = pandas.read_csv('data/movieData/predictions.dat', '\\t')\n",
    "\n",
    "predictions = predictions[7119:len(predictions)]"
   ]
  },
  {
   "cell_type": "code",
   "execution_count": 4,
   "metadata": {
    "collapsed": false
   },
   "outputs": [],
   "source": [
    "#plt.show()"
   ]
  },
  {
   "cell_type": "code",
   "execution_count": 5,
   "metadata": {
    "collapsed": true
   },
   "outputs": [],
   "source": [
    "def get_two_user_data(userID1, userID2):\n",
    "    return ur_train.query(\"userID == %d or userID == %d\" % (userID1, userID2))\n",
    "\n",
    "def get_intersection_list(user_data):\n",
    "    movies_rated = user_data['movieID']\n",
    "    cnt = Counter(movies_rated)\n",
    "    return [k for k, v in cnt.iteritems() if v > 1]    \n",
    "\n",
    "def get_intersection_data(user_data, intersection_list):\n",
    "    return user_data[user_data['movieID'].isin(intersection_list)]\n",
    "\n",
    "def most_common(lst):\n",
    "    return max(set(lst), key=lst.count)\n",
    "\n",
    "def get_relationship_strength(user1, user2):\n",
    "    user_data = get_two_user_data(user1, user2)\n",
    "    intersection_list = get_intersection_list(user_data)\n",
    "    if len(intersection_list) == 0: return 1\n",
    "    intersection_data = get_intersection_data(user_data, intersection_list)\n",
    "    \n",
    "    user1Ratings = intersection_data[intersection_data['userID'] == user1].sort_values('movieID')['rating']\n",
    "    user2Ratings = intersection_data[intersection_data['userID'] == user2].sort_values('movieID')['rating']\n",
    "    \n",
    "    sse = get_euclid(user1Ratings, user2Ratings)\n",
    "    return sse / len(intersection_list)\n",
    "\n",
    "def guess_with_k_neighbors(relationshipList, movieData, k=5):\n",
    "    closest = np.array(relationshipList).argsort()[:k]\n",
    "    ratings = []\n",
    "    for index in closest:\n",
    "        ratings.append( movieData.iloc[index]['rating'] )\n",
    "    if ratings:\n",
    "        return most_common(ratings)\n",
    "    else:\n",
    "        return 4.0 #make a guess\n",
    "    \n",
    "def get_SSE(guess, actual):\n",
    "    return (guess - actual)  ** 2\n",
    "\n",
    "def get_RMSE(guessList, actualList):\n",
    "    from sklearn.metrics import mean_squared_error\n",
    "    return mean_squared_error(actualList, guessList)**0.5\n",
    "\n",
    "def get_euclid(user1Ratings, user2Ratings):\n",
    "    return np.sum(np.sqrt((np.array(user1Ratings) - np.array(user2Ratings)) ** 2))"
   ]
  },
  {
   "cell_type": "code",
   "execution_count": null,
   "metadata": {
    "collapsed": false
   },
   "outputs": [
    {
     "name": "stdout",
     "output_type": "stream",
     "text": [
      " Iter: 7"
     ]
    }
   ],
   "source": [
    "sse = 0\n",
    "iteration = 0 \n",
    "\n",
    "guesses = []\n",
    "\n",
    "\n",
    "for some_index, userData in predictions.iterrows():\n",
    "    movieData =  ur_train[ur_train['movieID'] == userData.movieID]\n",
    "    userIDList = movieData['userID']\n",
    "    #print \"Train Data Len: \", len(userIDList)\n",
    "\n",
    "    relationshipList = []\n",
    "    index = 0\n",
    "    sys.stdout.write(\"\\r Iter: %d\" % (iteration))\n",
    "    for comparisonID in userIDList:\n",
    "        #sys.stdout.write(\"\\r Iter: %d, Index: %d, ID: %d, Compared ID: %d\" % (iteration, index, userData.userID, comparisonID))\n",
    "        if userData.userID != comparisonID:\n",
    "            relationshipList.append( get_relationship_strength(userData.userID, comparisonID) )\n",
    "        index += 1\n",
    "    iteration += 1\n",
    "    guess = guess_with_k_neighbors(relationshipList, movieData, k=5)\n",
    "    guesses.append( guess )\n",
    "    #print \"\\n\\nGuess: \", guess\n",
    "    #print \"\\nActual: \", userData.rating, \"\\n\\n\"\n",
    "    #sse += get_SSE(guess, userData.rating)"
   ]
  },
  {
   "cell_type": "code",
   "execution_count": null,
   "metadata": {
    "collapsed": false
   },
   "outputs": [],
   "source": [
    "print guesses"
   ]
  },
  {
   "cell_type": "code",
   "execution_count": null,
   "metadata": {
    "collapsed": true
   },
   "outputs": [],
   "source": []
  },
  {
   "cell_type": "code",
   "execution_count": null,
   "metadata": {
    "collapsed": true
   },
   "outputs": [],
   "source": []
  },
  {
   "cell_type": "code",
   "execution_count": null,
   "metadata": {
    "collapsed": true
   },
   "outputs": [],
   "source": []
  },
  {
   "cell_type": "code",
   "execution_count": null,
   "metadata": {
    "collapsed": true
   },
   "outputs": [],
   "source": []
  },
  {
   "cell_type": "code",
   "execution_count": null,
   "metadata": {
    "collapsed": true
   },
   "outputs": [],
   "source": []
  },
  {
   "cell_type": "code",
   "execution_count": null,
   "metadata": {
    "collapsed": true
   },
   "outputs": [],
   "source": []
  },
  {
   "cell_type": "code",
   "execution_count": null,
   "metadata": {
    "collapsed": true
   },
   "outputs": [],
   "source": []
  }
 ],
 "metadata": {
  "kernelspec": {
   "display_name": "Python 2",
   "language": "python",
   "name": "python2"
  },
  "language_info": {
   "codemirror_mode": {
    "name": "ipython",
    "version": 2
   },
   "file_extension": ".py",
   "mimetype": "text/x-python",
   "name": "python",
   "nbconvert_exporter": "python",
   "pygments_lexer": "ipython2",
   "version": "2.7.12"
  }
 },
 "nbformat": 4,
 "nbformat_minor": 0
}
