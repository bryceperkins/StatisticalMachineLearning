{
 "cells": [
  {
   "cell_type": "code",
   "execution_count": 8,
   "metadata": {
    "collapsed": false
   },
   "outputs": [
    {
     "name": "stdout",
     "output_type": "stream",
     "text": [
      "Plot the number images:\n"
     ]
    },
    {
     "data": {
      "image/png": "[encoded data removed]",
      "text/plain": [
       "<matplotlib.figure.Figure at 0x9a509f0>"
      ]
     },
     "metadata": {},
     "output_type": "display_data"
    },
    {
     "data": {
      "image/png": "[encoded data removed]",
      "text/plain": [
       "<matplotlib.figure.Figure at 0x121c5e30>"
      ]
     },
     "metadata": {},
     "output_type": "display_data"
    }
   ],
   "source": [
    "import scipy.io\n",
    "import numpy as np\n",
    "import matplotlib\n",
    "import matplotlib.pyplot as plt\n",
    "%matplotlib inline  \n",
    " \n",
    "train_mat = scipy.io.loadmat('data/mnist_train.mat')\n",
    "train_data = train_mat['images']\n",
    "train_labels = train_mat['labels']\n",
    " \n",
    "test_mat = scipy.io.loadmat('data/mnist_test.mat')\n",
    "test_data = test_mat['t10k_images']\n",
    "test_labels = test_mat['t10k_labels']\n",
    "\n",
    "meansArray = [] \n",
    "subplot = 150\n",
    "print \"Plot the number images:\"\n",
    "for x in range(0,10):\n",
    "    subplot = subplot + 1\n",
    "    plt.subplot(subplot).axis(\"off\")\n",
    "    numbers = train_data[:,(train_labels == x).ravel()]\n",
    "    avgNumbers = np.mean(numbers,axis=1)\n",
    "    meansArray.append(avgNumbers)\n",
    "    plt.imshow( avgNumbers.reshape(28,28).T, interpolation='nearest', cmap=matplotlib.cm.gray)\n",
    "    if (x+1)%5==0:\n",
    "        subplot = 150\n",
    "        plt.show()"
   ]
  },
  {
   "cell_type": "code",
   "execution_count": 9,
   "metadata": {
    "collapsed": false
   },
   "outputs": [],
   "source": [
    "xLength = xrange(len(test_labels))\n",
    "yLength = xrange(len(meansArray))\n",
    "\n",
    "pred_vals = []\n",
    "act_vals = []\n",
    "\n",
    "for x in xLength:\n",
    "    act_vals.append(test_labels[x][0])\n",
    "    means = []\n",
    "    for y in yLength:\n",
    "        means.append(np.mean(pow(((test_data[:,x] + meansArray[y])/2) - meansArray[y],2)))\n",
    "\n",
    "    pred_vals.append(np.argmin(means))"
   ]
  },
  {
   "cell_type": "code",
   "execution_count": 10,
   "metadata": {
    "collapsed": false
   },
   "outputs": [
    {
     "name": "stdout",
     "output_type": "stream",
     "text": [
      "Confusion matrix:\n",
      "Predicted    0     1    2     3     4    5    6    7    8     9  __all__\n",
      "Actual                                                                  \n",
      "0          878     0    7     2     2   58   25    1    7     0      980\n",
      "1            0  1092   10     3     0    7    3    0   20     0     1135\n",
      "2           19    71  781    33    31    3   23   18   50     3     1032\n",
      "3            4    24   25   814     1   49    8   15   58    12     1010\n",
      "4            1    22    2     0   811    3   16    1   10   116      982\n",
      "5           11    63    2   118    21  612   27   10   13    15      892\n",
      "6           18    27   22     0    31   32  827    0    1     0      958\n",
      "7            2    59   22     1    20    2    0  856   13    53     1028\n",
      "8           14    39   11    83    12   36   13   10  718    38      974\n",
      "9           15    22    7    10    83   12    1   27   18   814     1009\n",
      "__all__    962  1419  889  1064  1012  814  943  938  908  1051    10000\n"
     ]
    },
    {
     "data": {
      "image/png": "[encoded data removed]",
      "text/plain": [
       "<matplotlib.figure.Figure at 0x9a0d390>"
      ]
     },
     "metadata": {},
     "output_type": "display_data"
    }
   ],
   "source": [
    "from pandas_confusion import ConfusionMatrix\n",
    "confusion_matrix = ConfusionMatrix(act_vals, pred_vals)\n",
    "confusion_matrix.plot(cmap=matplotlib.cm.jet)\n",
    "print(\"Confusion matrix:\\n%s\" % confusion_matrix)"
   ]
  },
  {
   "cell_type": "code",
   "execution_count": 11,
   "metadata": {
    "collapsed": false
   },
   "outputs": [
    {
     "name": "stdout",
     "output_type": "stream",
     "text": [
      "             precision    recall  f1-score   support\n",
      "\n",
      "        [7]       0.91      0.90      0.90       980\n",
      "        [2]       0.77      0.96      0.86      1135\n",
      "        [1]       0.88      0.76      0.81      1032\n",
      "        [0]       0.77      0.81      0.78      1010\n",
      "        [4]       0.80      0.83      0.81       982\n",
      "        [1]       0.75      0.69      0.72       892\n",
      "        [4]       0.88      0.86      0.87       958\n",
      "        [9]       0.91      0.83      0.87      1028\n",
      "        [5]       0.79      0.74      0.76       974\n",
      "        [9]       0.77      0.81      0.79      1009\n",
      "\n",
      "avg / total       0.82      0.82      0.82     10000\n",
      "\n",
      "0.1797\n",
      "0.8203\n"
     ]
    }
   ],
   "source": [
    "from sklearn.metrics import classification_report\n",
    "print(classification_report(act_vals, pred_vals, target_names=test_labels))\n",
    "\n",
    "from sklearn.metrics import hamming_loss\n",
    "print hamming_loss(act_vals, pred_vals)\n",
    "\n",
    "from sklearn.metrics import jaccard_similarity_score\n",
    "print jaccard_similarity_score(act_vals, pred_vals)\n"
   ]
  },
  {
   "cell_type": "code",
   "execution_count": 13,
   "metadata": {
    "collapsed": false
   },
   "outputs": [
    {
     "data": {
      "text/plain": [
       "<matplotlib.axes._subplots.AxesSubplot at 0x120ded30>"
      ]
     },
     "execution_count": 13,
     "metadata": {},
     "output_type": "execute_result"
    },
    {
     "data": {
      "image/png": "[encoded data removed]",
      "text/plain": [
       "<matplotlib.figure.Figure at 0x9d5dd70>"
      ]
     },
     "metadata": {},
     "output_type": "display_data"
    }
   ],
   "source": [
    "test_vals = act_vals[:1000]\n",
    "xLength = xrange(len(test_vals))\n",
    "yLength = xrange(len(meansArray))\n",
    "\n",
    "from math import exp\n",
    "\n",
    "final_predictions = []\n",
    "for x in xLength:\n",
    "    sum_predictions = np.zeros(10)\n",
    "    for y in yLength:\n",
    "            trainingMatrix = train_data[:,(train_labels == y).ravel()]\n",
    "            X = test_data[:,x]\n",
    "            sum_predictions[y] =  np.mean(np.exp((-1/2 * np.sum((((X.reshape(784,1) - trainingMatrix ) * (X.reshape(784,1) - trainingMatrix))), axis = 0).ravel())))\n",
    "    final_predictions.append(np.argmax(sum_predictions))\n",
    "\n",
    "confusion_matrix = ConfusionMatrix(test_vals, final_predictions)\n",
    "confusion_matrix.plot(cmap=matplotlib.cm.jet)"
   ]
  },
  {
   "cell_type": "code",
   "execution_count": 7,
   "metadata": {
    "collapsed": false
   },
   "outputs": [
    {
     "name": "stdout",
     "output_type": "stream",
     "text": [
      "             precision    recall  f1-score   support\n",
      "\n",
      "        [7]       0.97      0.99      0.98        85\n",
      "        [2]       0.98      0.99      0.98       126\n",
      "        [1]       0.99      0.95      0.97       116\n",
      "        [0]       0.94      0.94      0.94       107\n",
      "        [4]       0.97      0.95      0.96       110\n",
      "        [1]       0.94      0.98      0.96        87\n",
      "        [4]       0.98      0.98      0.98        87\n",
      "        [9]       0.94      0.96      0.95        99\n",
      "        [5]       0.96      0.92      0.94        89\n",
      "        [9]       0.94      0.97      0.95        94\n",
      "\n",
      "avg / total       0.96      0.96      0.96      1000\n",
      "\n",
      "0.038\n",
      "0.962\n"
     ]
    }
   ],
   "source": [
    "from sklearn.metrics import classification_report\n",
    "print(classification_report(test_vals, final_predictions, target_names=test_labels))\n",
    "\n",
    "from sklearn.metrics import hamming_loss\n",
    "print hamming_loss(test_vals, final_predictions)\n",
    "from sklearn.metrics import jaccard_similarity_score\n",
    "print jaccard_similarity_score(test_vals, final_predictions)"
   ]
  },
  {
   "cell_type": "code",
   "execution_count": null,
   "metadata": {
    "collapsed": true
   },
   "outputs": [],
   "source": []
  },
  {
   "cell_type": "code",
   "execution_count": null,
   "metadata": {
    "collapsed": true
   },
   "outputs": [],
   "source": []
  }
 ],
 "metadata": {
  "kernelspec": {
   "display_name": "Python 2",
   "language": "python",
   "name": "python2"
  },
  "language_info": {
   "codemirror_mode": {
    "name": "ipython",
    "version": 2
   },
   "file_extension": ".py",
   "mimetype": "text/x-python",
   "name": "python",
   "nbconvert_exporter": "python",
   "pygments_lexer": "ipython2",
   "version": "2.7.12"
  }
 },
 "nbformat": 4,
 "nbformat_minor": 0
}
