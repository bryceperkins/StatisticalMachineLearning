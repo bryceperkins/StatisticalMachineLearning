{
 "cells": [
  {
   "cell_type": "code",
   "execution_count": 7,
   "metadata": {
    "collapsed": false
   },
   "outputs": [
    {
     "name": "stdout",
     "output_type": "stream",
     "text": [
      "Populating the interactive namespace from numpy and matplotlib\n"
     ]
    },
    {
     "name": "stderr",
     "output_type": "stream",
     "text": [
      "WARNING: pylab import has clobbered these variables: ['random']\n",
      "`%matplotlib` prevents importing * from pylab and numpy\n"
     ]
    }
   ],
   "source": [
    "import numpy as np\n",
    "import pandas\n",
    "import random\n",
    "import matplotlib.pyplot as plt\n",
    "%matplotlib inline\n",
    "%pylab inline\n",
    "pylab.rcParams['figure.figsize'] = (16.0, 8.0) \n",
    "\n",
    "dataBig = pandas.read_csv( 'data\\store_train.csv' )\n",
    "data = dataBig.sample(1000)\n",
    " \n",
    "testd = pandas.read_csv( 'data\\store_test.csv' )\n",
    " \n",
    "N = testd.shape[0]\n",
    "my_preds = np.zeros(( N, 1 ))\n",
    " \n",
    "m = 20\n",
    "n = len(data)\n",
    "\n",
    "KMM = np.zeros((m,m))\n",
    "KMN = np.zeros((m,n))\n",
    "train_indeces = xrange(len(data))\n"
   ]
  },
  {
   "cell_type": "code",
   "execution_count": 8,
   "metadata": {
    "collapsed": false,
    "scrolled": true
   },
   "outputs": [
    {
     "name": "stdout",
     "output_type": "stream",
     "text": [
      "1000\n",
      "Store                   259\n",
      "DayOfWeek                 4\n",
      "Date             2014-04-10\n",
      "Sales                 10652\n",
      "Customers              2375\n",
      "Open                      1\n",
      "Promo                     0\n",
      "StateHoliday              0\n",
      "SchoolHoliday             0\n",
      "Name: 498993, dtype: object\n"
     ]
    }
   ],
   "source": [
    "print len(data)\n",
    "print data.iloc[0]"
   ]
  },
  {
   "cell_type": "code",
   "execution_count": 9,
   "metadata": {
    "collapsed": true
   },
   "outputs": [],
   "source": [
    "def basic_kernel(xi, xj):\n",
    "    return 1 if xi == xj else 0\n",
    "\n",
    "def kernel(x,y):\n",
    "    totes = 0    \n",
    "    totes = totes + basic_kernel( x.Store, y.Store)\n",
    "    totes = totes + basic_kernel( x.Date, y.Date )\n",
    "    totes = totes + basic_kernel( x.DayOfWeek, y.DayOfWeek )\n",
    "    totes = totes + basic_kernel( x.Open, y.Open )\n",
    "    totes = totes + basic_kernel( x.Promo, y.Promo )\n",
    "    totes = totes + basic_kernel( x.StateHoliday, y.StateHoliday )\n",
    "    totes = totes + basic_kernel( x.SchoolHoliday, y.SchoolHoliday )\n",
    "    \n",
    "    return totes    \n",
    "\n",
    "def generateKMM():\n",
    "    for xi in xrange (m): \n",
    "        for xj in range (m):\n",
    "            in1 = random.choice(train_indeces)\n",
    "            in2 = random.choice(train_indeces)\n",
    "            KMM[xi,xj] = kernel(data.iloc[in1], data.iloc[in2])\n",
    "    return KMM\n",
    "\n",
    "def generateKMN():\n",
    "    for xi in xrange(m):\n",
    "        for xj in range (n):\n",
    "            KMN[xi,xj] = kernel(data.iloc[xi], data.iloc[xj])\n",
    "    return KMN\n",
    "        \n",
    "def generateKTM(a):\n",
    "    KTM = np.zeros((1,m))\n",
    "    for x in range(m):\n",
    "        KTM[0,x] = kernel(data.iloc[x],a)\n",
    "    return KTM\n",
    "\n"
   ]
  },
  {
   "cell_type": "code",
   "execution_count": 10,
   "metadata": {
    "collapsed": false
   },
   "outputs": [
    {
     "data": {
      "text/plain": [
       "<matplotlib.image.AxesImage at 0x9b06bb0>"
      ]
     },
     "execution_count": 10,
     "metadata": {},
     "output_type": "execute_result"
    },
    {
     "data": {
      "image/png": "[encoded data removed]",
      "text/plain": [
       "<matplotlib.figure.Figure at 0x48c07f0>"
      ]
     },
     "metadata": {},
     "output_type": "display_data"
    }
   ],
   "source": [
    "\n",
    "KMM = generateKMM()\n",
    "KMN = generateKMN()\n",
    "KNM = np.transpose(KMN)\n",
    "plt.imshow(KMM.reshape(m,m).T, interpolation='nearest',cmap='jet')\n",
    "\n"
   ]
  },
  {
   "cell_type": "code",
   "execution_count": 11,
   "metadata": {
    "collapsed": false
   },
   "outputs": [
    {
     "name": "stdout",
     "output_type": "stream",
     "text": [
      "[[ 3.  3.  3.  1.  4.  2.  2.  3.  3.  2.  3.  3.  1.  3.  2.  1.  5.  5.\n",
      "   3.  2.]\n",
      " [ 3.  3.  1.  4.  2.  4.  3.  3.  3.  5.  3.  1.  2.  5.  2.  4.  4.  4.\n",
      "   2.  3.]\n",
      " [ 2.  2.  3.  3.  4.  4.  3.  2.  2.  3.  3.  3.  3.  2.  2.  1.  1.  3.\n",
      "   4.  4.]\n",
      " [ 4.  2.  2.  3.  3.  1.  2.  5.  4.  3.  4.  4.  4.  3.  3.  4.  4.  3.\n",
      "   3.  5.]\n",
      " [ 3.  2.  2.  4.  1.  3.  3.  3.  2.  2.  3.  3.  3.  3.  3.  2.  3.  3.\n",
      "   4.  3.]\n",
      " [ 3.  3.  3.  4.  3.  4.  3.  3.  3.  2.  2.  3.  2.  3.  2.  2.  4.  3.\n",
      "   3.  3.]\n",
      " [ 3.  1.  5.  2.  4.  3.  2.  3.  3.  4.  3.  5.  2.  3.  3.  2.  3.  4.\n",
      "   3.  2.]\n",
      " [ 2.  3.  2.  3.  2.  3.  3.  3.  4.  1.  1.  0.  2.  1.  4.  3.  1.  2.\n",
      "   2.  2.]\n",
      " [ 4.  4.  4.  4.  1.  2.  3.  3.  4.  2.  4.  1.  3.  2.  3.  3.  2.  3.\n",
      "   3.  5.]\n",
      " [ 1.  3.  4.  0.  1.  3.  3.  2.  2.  3.  4.  3.  3.  2.  2.  3.  3.  2.\n",
      "   4.  3.]\n",
      " [ 3.  3.  3.  4.  3.  3.  2.  4.  2.  3.  1.  4.  2.  3.  2.  4.  5.  3.\n",
      "   4.  3.]\n",
      " [ 2.  3.  2.  3.  3.  1.  0.  4.  2.  3.  2.  2.  3.  2.  5.  2.  3.  4.\n",
      "   3.  3.]\n",
      " [ 2.  4.  3.  4.  3.  3.  4.  3.  2.  4.  3.  3.  2.  4.  2.  4.  4.  3.\n",
      "   3.  4.]\n",
      " [ 1.  3.  2.  2.  2.  3.  3.  3.  3.  2.  3.  2.  4.  2.  4.  3.  2.  3.\n",
      "   2.  4.]\n",
      " [ 3.  5.  4.  3.  2.  3.  4.  2.  3.  2.  4.  5.  2.  3.  3.  4.  3.  2.\n",
      "   4.  5.]\n",
      " [ 2.  1.  3.  4.  3.  0.  3.  1.  4.  4.  3.  2.  3.  4.  2.  4.  2.  3.\n",
      "   3.  2.]\n",
      " [ 3.  1.  4.  5.  3.  3.  5.  5.  3.  4.  5.  7.  2.  4.  5.  2.  3.  3.\n",
      "   3.  2.]\n",
      " [ 3.  5.  3.  4.  3.  1.  4.  2.  2.  3.  3.  3.  3.  5.  3.  3.  3.  4.\n",
      "   2.  1.]\n",
      " [ 3.  2.  2.  2.  3.  3.  4.  2.  3.  4.  4.  3.  2.  2.  2.  3.  3.  2.\n",
      "   4.  3.]\n",
      " [ 4.  3.  3.  2.  3.  3.  2.  5.  3.  2.  3.  0.  2.  3.  4.  3.  3.  4.\n",
      "   3.  3.]]\n",
      "[[ 7.  3.  3. ...,  3.  3.  2.]\n",
      " [ 3.  7.  3. ...,  3.  4.  1.]\n",
      " [ 3.  3.  7. ...,  1.  2.  1.]\n",
      " ..., \n",
      " [ 3.  4.  2. ...,  3.  4.  1.]\n",
      " [ 3.  5.  3. ...,  3.  4.  1.]\n",
      " [ 3.  4.  2. ...,  3.  4.  2.]]\n",
      "[[ 7.  3.  3. ...,  3.  3.  3.]\n",
      " [ 3.  7.  3. ...,  4.  5.  4.]\n",
      " [ 3.  3.  7. ...,  2.  3.  2.]\n",
      " ..., \n",
      " [ 3.  3.  1. ...,  3.  3.  3.]\n",
      " [ 3.  4.  2. ...,  4.  4.  4.]\n",
      " [ 2.  1.  1. ...,  1.  1.  2.]]\n"
     ]
    }
   ],
   "source": [
    "print KMM\n",
    "print KMN\n",
    "print KNM"
   ]
  },
  {
   "cell_type": "code",
   "execution_count": 12,
   "metadata": {
    "collapsed": false,
    "scrolled": true
   },
   "outputs": [
    {
     "name": "stdout",
     "output_type": "stream",
     "text": [
      "41088\n"
     ]
    }
   ],
   "source": [
    "#sigma can be set to 1       \n",
    "y = data.Sales\n",
    "def predictMuPrime(testRow, sigma=1):\n",
    "    KTM = generateKTM(testRow)\n",
    "    return KTM.dot(np.linalg.inv(KMN.dot(KNM)+(pow(sigma,2)*KMM))).dot(KMN).dot(y)\n",
    "\n",
    "\n",
    "N = testd.shape[0]\n",
    "print N\n",
    "for id in range(0,N):\n",
    "    if testd.iloc[id].Open == 1:\n",
    "        my_preds[id,0]= predictMuPrime(testd.iloc[id])\n",
    "    else:\n",
    "        my_preds[id,0] = 0\n",
    "\n",
    "sfile = open( 'mean_sub.csv', 'wb' )\n",
    "sfile.write( '\"Id\",\"Sales\"\\n' )\n",
    "for id in range( 0, N ):\n",
    "    sfile.write( '%d,%.2f\\n' % ( id+1, my_preds[id] ) )  # add one for one-based indexing\n",
    "sfile.close()"
   ]
  },
  {
   "cell_type": "code",
   "execution_count": 13,
   "metadata": {
    "collapsed": false
   },
   "outputs": [
    {
     "data": {
      "image/png": "[encoded data removed]",
      "text/plain": [
       "<IPython.core.display.Image object>"
      ]
     },
     "execution_count": 13,
     "metadata": {},
     "output_type": "execute_result"
    }
   ],
   "source": [
    "from IPython.display import Image\n",
    "Image(filename='results.png')"
   ]
  },
  {
   "cell_type": "code",
   "execution_count": null,
   "metadata": {
    "collapsed": true
   },
   "outputs": [],
   "source": []
  }
 ],
 "metadata": {
  "kernelspec": {
   "display_name": "Python 2",
   "language": "python",
   "name": "python2"
  },
  "language_info": {
   "codemirror_mode": {
    "name": "ipython",
    "version": 2
   },
   "file_extension": ".py",
   "mimetype": "text/x-python",
   "name": "python",
   "nbconvert_exporter": "python",
   "pygments_lexer": "ipython2",
   "version": "2.7.12"
  }
 },
 "nbformat": 4,
 "nbformat_minor": 0
}
