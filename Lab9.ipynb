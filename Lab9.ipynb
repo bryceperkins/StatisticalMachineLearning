{
 "cells": [
  {
   "cell_type": "code",
   "execution_count": 10,
   "metadata": {
    "collapsed": false
   },
   "outputs": [
    {
     "ename": "NameError",
     "evalue": "name 'randomly_assign_topics' is not defined",
     "output_type": "error",
     "traceback": [
      "\u001b[1;31m---------------------------------------------------------------------------\u001b[0m",
      "\u001b[1;31mNameError\u001b[0m                                 Traceback (most recent call last)",
      "\u001b[1;32m<ipython-input-10-7660a3db332e>\u001b[0m in \u001b[0;36m<module>\u001b[1;34m()\u001b[0m\n\u001b[0;32m     43\u001b[0m \u001b[1;31m# ======================================================================\u001b[0m\u001b[1;33m\u001b[0m\u001b[1;33m\u001b[0m\u001b[0m\n\u001b[0;32m     44\u001b[0m \u001b[0mqs\u001b[0m\u001b[1;33m=\u001b[0m\u001b[1;33m[\u001b[0m\u001b[1;33m]\u001b[0m\u001b[1;33m\u001b[0m\u001b[0m\n\u001b[1;32m---> 45\u001b[1;33m \u001b[0mqs\u001b[0m \u001b[1;33m=\u001b[0m \u001b[0mrandomly_assign_topics\u001b[0m\u001b[1;33m(\u001b[0m \u001b[0mdocs_i\u001b[0m\u001b[1;33m,\u001b[0m \u001b[0mK\u001b[0m \u001b[1;33m)\u001b[0m\u001b[1;33m\u001b[0m\u001b[0m\n\u001b[0m\u001b[0;32m     46\u001b[0m \u001b[1;33m\u001b[0m\u001b[0m\n\u001b[0;32m     47\u001b[0m \u001b[0malphas\u001b[0m \u001b[1;33m=\u001b[0m \u001b[0mnp\u001b[0m\u001b[1;33m.\u001b[0m\u001b[0mones\u001b[0m\u001b[1;33m(\u001b[0m\u001b[1;33m(\u001b[0m\u001b[0mK\u001b[0m\u001b[1;33m,\u001b[0m\u001b[1;36m1\u001b[0m\u001b[1;33m)\u001b[0m\u001b[1;33m)\u001b[0m\u001b[1;33m[\u001b[0m\u001b[1;33m:\u001b[0m\u001b[1;33m,\u001b[0m\u001b[1;36m0\u001b[0m\u001b[1;33m]\u001b[0m\u001b[1;33m\u001b[0m\u001b[0m\n",
      "\u001b[1;31mNameError\u001b[0m: name 'randomly_assign_topics' is not defined"
     ]
    }
   ],
   "source": [
    "import numpy as np\n",
    "import re\n",
    "import matplotlib.pyplot as plt\n",
    "%matplotlib inline\n",
    "\n"
   ]
  },
  {
   "cell_type": "code",
   "execution_count": null,
   "metadata": {
    "collapsed": true
   },
   "outputs": [],
   "source": [
    "def randomlyAssignTopics(docs_i, K):\n",
    "    qs = []\n",
    "    for i in docs_i:\n",
    "        j = []\n",
    "        for word in i:\n",
    "            j.append()"
   ]
  },
  {
   "cell_type": "code",
   "execution_count": null,
   "metadata": {
    "collapsed": true
   },
   "outputs": [],
   "source": [
    "vocab = set()\n",
    "docs = []\n",
    " \n",
    "D = 472 # number of documents\n",
    "K = 10 # number of topics\n",
    " \n",
    "# open each file; convert everything to lowercase and strip non-letter symbols; split into words\n",
    "for fileind in range( 1, D+1 ):\n",
    "    foo = open( 'data/Lab9/output%04d.txt' % fileind ).read()    \n",
    "    tmp = re.sub( '[^a-z ]+', ' ', foo.lower() ).split()\n",
    "    docs.append( tmp )\n",
    " \n",
    "    for w in tmp:\n",
    "        vocab.add( w )\n",
    "        \n",
    "# vocab now has unique words\n",
    "# give each word in the vocab a unique id\n",
    "ind = 0\n",
    "vhash = {}\n",
    "vindhash = {}\n",
    "for i in list(vocab):\n",
    "    vhash[i] = ind\n",
    "    vindhash[ind] = i\n",
    "    ind += 1\n",
    "    \n",
    "# size of our vocabulary\n",
    "V = ind\n",
    " \n",
    "# reprocess each document and re-represent it as a list of word ids\n",
    " \n",
    "docs_i = []\n",
    "for d in docs:\n",
    "    dinds = []\n",
    "    for w in d:\n",
    "        dinds.append( vhash[w] )\n",
    "    docs_i.append( dinds )\n",
    "    \n",
    "# ======================================================================\n",
    "qs=[] \n",
    "qs = randomly_assign_topics( docs_i, K )\n",
    " \n",
    "alphas = np.ones((K,1))[:,0]\n",
    "gammas = np.ones((V,1))[:,0]\n",
    " \n",
    "# topic distributions\n",
    "topics = np.zeros((V,K))\n",
    "# how should this be initialized?\n",
    " \n",
    "# per-document-topic distributions\n",
    "pdtm = np.zeros((K,D))  \n",
    "# how should this be initialized?\n",
    " \n",
    "for iters in range(0,100):\n",
    "    p = compute_data_likelihood( docs_i, qs, topics, pdtm )\n",
    "    print \"Iter %d, p=%.2f\" % (iters,p)\n",
    " \n",
    "    # resample per-word topic assignments qs\n",
    " \n",
    "    # resample per-document topic mixtures pdtm\n",
    " \n",
    "    # resample topics"
   ]
  },
  {
   "cell_type": "code",
   "execution_count": 11,
   "metadata": {
    "collapsed": false
   },
   "outputs": [
    {
     "data": {
      "text/plain": [
       "{'ALLUSERSPROFILE': 'C:\\\\ProgramData',\n",
       " 'ANDROID_NDK_PATH': 'C:\\\\Users\\\\Bryce Perkins\\\\Documents\\\\Android\\\\ndk\\\\android-ndk-r10e',\n",
       " 'ANT_HOME': 'C:\\\\ant\\\\apache-ant-1.9.7',\n",
       " 'APPDATA': 'C:\\\\Users\\\\Bryce Perkins\\\\AppData\\\\Roaming',\n",
       " 'CLASSPATH': '.;C:\\\\Program Files (x86)\\\\Java\\\\jre1.8.0_60\\\\lib\\\\ext\\\\QTJava.zip',\n",
       " 'CLICOLOR': '1',\n",
       " 'COMMONPROGRAMFILES': 'C:\\\\Program Files (x86)\\\\Common Files',\n",
       " 'COMMONPROGRAMFILES(X86)': 'C:\\\\Program Files (x86)\\\\Common Files',\n",
       " 'COMMONPROGRAMW6432': 'C:\\\\Program Files\\\\Common Files',\n",
       " 'COMPUTERNAME': 'STEPHEN',\n",
       " 'COMSPEC': 'C:\\\\WINDOWS\\\\system32\\\\cmd.exe',\n",
       " 'FPS_BROWSER_APP_PROFILE_STRING': 'Internet Explorer',\n",
       " 'FPS_BROWSER_USER_PROFILE_STRING': 'Default',\n",
       " 'FP_NO_HOST_CHECK': 'NO',\n",
       " 'GIT_PAGER': 'cat',\n",
       " 'GTK_BASEPATH': 'C:\\\\GTK',\n",
       " 'HOMEDRIVE': 'C:',\n",
       " 'HOMEPATH': '\\\\Users\\\\Bryce Perkins',\n",
       " 'INCLUDE': 'C:\\\\GTK\\\\INCLUDE;C:\\\\GTK\\\\INCLUDE\\\\GTK-2.0;C:\\\\GTK\\\\INCLUDE\\\\GLIB-2.0;C:\\\\GTK\\\\INCLUDE\\\\PANGO-1.0;C:\\\\GTK\\\\INCLUDE\\\\CAIRO;C:\\\\GTK\\\\INCLUDE\\\\ATK-1.0;C:\\\\GTK\\\\INCLUDE\\\\GTKGLEXT-1.0;C:\\\\GTK\\\\LIB\\\\GTK-2.0\\\\INCLUDE;C:\\\\GTK\\\\LIB\\\\GLIB-2.0\\\\INCLUDE;C:\\\\GTK\\\\LIB\\\\GTKGLEXT-1.0\\\\INCLUDE;C:\\\\GTK\\\\INCLUDE\\\\LIBGLADE-2.0;C:\\\\GTK\\\\INCLUDE\\\\LIBXML2;',\n",
       " 'IPY_INTERRUPT_EVENT': '892',\n",
       " 'JAVA_HOME': 'C:\\\\Program Files\\\\Java\\\\jdk1.8.0_60',\n",
       " 'JPY_INTERRUPT_EVENT': '892',\n",
       " 'JPY_PARENT_PID': '776',\n",
       " 'LIB': 'C:\\\\GTK\\\\LIB;',\n",
       " 'LOCALAPPDATA': 'C:\\\\Users\\\\Bryce Perkins\\\\AppData\\\\Local',\n",
       " 'LOGONSERVER': '\\\\\\\\STEPHEN',\n",
       " 'NUMBER_OF_PROCESSORS': '4',\n",
       " 'ONEDRIVE': 'C:\\\\Users\\\\Bryce Perkins\\\\OneDrive',\n",
       " 'OPENSSL_CONF': 'C:\\\\OpenSSL-Win32\\\\bin\\\\openssl.cfg',\n",
       " 'OS': 'Windows_NT',\n",
       " 'PAGER': 'cat',\n",
       " 'PATH': 'C:\\\\Users\\\\Bryce Perkins\\\\Anaconda2\\\\Library\\\\bin;C:\\\\Users\\\\Bryce Perkins\\\\Anaconda2\\\\Library\\\\bin;C:\\\\Users\\\\Bryce Perkins\\\\Anaconda2\\\\Library\\\\bin;C:\\\\GTK\\\\bin;C:\\\\Program Files\\\\PHP\\\\v5.3;c:\\\\mingw\\\\bin;C:\\\\Program Files (x86)\\\\NVIDIA Corporation\\\\PhysX\\\\Common;C:\\\\ProgramData\\\\Oracle\\\\Java\\\\javapath;C:\\\\WINDOWS\\\\system32;C:\\\\WINDOWS;C:\\\\WINDOWS\\\\System32\\\\Wbem;C:\\\\WINDOWS\\\\System32\\\\WindowsPowerShell\\\\v1.0\\\\;C:\\\\Program Files (x86)\\\\ATI Technologies\\\\ATI.ACE\\\\Core-Static;C:\\\\Program Files\\\\Microsoft SQL Server\\\\110\\\\Tools\\\\Binn\\\\;C:\\\\Program Files (x86)\\\\AMD\\\\ATI.ACE\\\\Core-Static;C:\\\\Users\\\\Bryce Perkins\\\\.dnx\\\\bin;C:\\\\Program Files\\\\Microsoft DNX\\\\Dnvm\\\\;C:\\\\Python27;C:\\\\Program Files (x86)\\\\GtkSharp\\\\2.12\\\\bin;C:\\\\Users\\\\Bryce Perkins\\\\Anaconda2;C:\\\\Users\\\\Bryce Perkins\\\\Anaconda2\\\\Scripts;C:\\\\Users\\\\Bryce Perkins\\\\Anaconda2\\\\Library\\\\bin;C:\\\\Program Files (x86)\\\\QuickTime\\\\QTSystem\\\\;C:\\\\WINDOWS\\\\system32;C:\\\\WINDOWS;C:\\\\WINDOWS\\\\System32\\\\Wbem;C:\\\\WINDOWS\\\\System32\\\\WindowsPowerShell\\\\v1.0\\\\;C:\\\\ant\\\\apache-ant-1.9.7\\\\bin;C:\\\\Program Files\\\\TortoiseHg\\\\;C:\\\\Program Files\\\\Java\\\\jdk1.8.0_60\\\\bin;C:\\\\GTK\\\\bin;C:\\\\Users\\\\Bryce Perkins\\\\Anaconda2;C:\\\\Users\\\\Bryce Perkins\\\\Anaconda2\\\\Scripts;C:\\\\Users\\\\Bryce Perkins\\\\Anaconda2\\\\Library\\\\bin;C:\\\\Users\\\\Bryce Perkins\\\\AppData\\\\Local\\\\Microsoft\\\\WindowsApps',\n",
       " 'PATHEXT': '.COM;.EXE;.BAT;.CMD;.VBS;.VBE;.JS;.JSE;.WSF;.WSH;.MSC;.PY',\n",
       " 'PROCESSOR_ARCHITECTURE': 'x86',\n",
       " 'PROCESSOR_ARCHITEW6432': 'AMD64',\n",
       " 'PROCESSOR_IDENTIFIER': 'Intel64 Family 6 Model 60 Stepping 3, GenuineIntel',\n",
       " 'PROCESSOR_LEVEL': '6',\n",
       " 'PROCESSOR_REVISION': '3c03',\n",
       " 'PROGRAMDATA': 'C:\\\\ProgramData',\n",
       " 'PROGRAMFILES': 'C:\\\\Program Files (x86)',\n",
       " 'PROGRAMFILES(X86)': 'C:\\\\Program Files (x86)',\n",
       " 'PROGRAMW6432': 'C:\\\\Program Files',\n",
       " 'PROMPT': '$P$G',\n",
       " 'PSMODULEPATH': 'C:\\\\WINDOWS\\\\system32\\\\WindowsPowerShell\\\\v1.0\\\\Modules\\\\',\n",
       " 'PUBLIC': 'C:\\\\Users\\\\Public',\n",
       " 'PYTHON': 'C:\\\\Python34\\\\;C:\\\\Python34\\\\Scripts;',\n",
       " 'PYTHON2': 'C:\\\\Python27\\\\;C:\\\\Python27\\\\Scripts;',\n",
       " 'QTJAVA': 'C:\\\\Program Files (x86)\\\\Java\\\\jre1.8.0_60\\\\lib\\\\ext\\\\QTJava.zip',\n",
       " 'SESSIONNAME': 'Console',\n",
       " 'SYSTEMDRIVE': 'C:',\n",
       " 'SYSTEMROOT': 'C:\\\\WINDOWS',\n",
       " 'TCL_LIBRARY': 'C:\\\\Users\\\\Bryce Perkins\\\\Anaconda2\\\\tcl\\\\tcl8.5',\n",
       " 'TEMP': 'C:\\\\Users\\\\BRYCEP~1\\\\AppData\\\\Local\\\\Temp',\n",
       " 'TERM': 'xterm-color',\n",
       " 'TIX_LIBRARY': 'C:\\\\Users\\\\Bryce Perkins\\\\Anaconda2\\\\tcl\\\\tix8.4.3',\n",
       " 'TK_LIBRARY': 'C:\\\\Users\\\\Bryce Perkins\\\\Anaconda2\\\\tcl\\\\tk8.5',\n",
       " 'TMP': 'C:\\\\Users\\\\BRYCEP~1\\\\AppData\\\\Local\\\\Temp',\n",
       " 'ULTRAMON_LANGDIR': 'C:\\\\Program Files\\\\UltraMon\\\\Resources\\\\en',\n",
       " 'USERDOMAIN': 'STEPHEN',\n",
       " 'USERDOMAIN_ROAMINGPROFILE': 'STEPHEN',\n",
       " 'USERNAME': 'Bryce Perkins',\n",
       " 'USERPROFILE': 'C:\\\\Users\\\\Bryce Perkins',\n",
       " 'VS120COMNTOOLS': 'C:\\\\Program Files (x86)\\\\Microsoft Visual Studio 12.0\\\\Common7\\\\Tools\\\\',\n",
       " 'VS140COMNTOOLS': 'C:\\\\Program Files (x86)\\\\Microsoft Visual Studio 14.0\\\\Common7\\\\Tools\\\\',\n",
       " 'WINDIR': 'C:\\\\WINDOWS',\n",
       " 'WINDOWS_TRACING_FLAGS': '3',\n",
       " 'WINDOWS_TRACING_LOGFILE': 'C:\\\\BVTBin\\\\Tests\\\\installpackage\\\\csilogfile.log'}"
      ]
     },
     "execution_count": 11,
     "metadata": {},
     "output_type": "execute_result"
    }
   ],
   "source": [
    "% env"
   ]
  },
  {
   "cell_type": "code",
   "execution_count": null,
   "metadata": {
    "collapsed": true
   },
   "outputs": [],
   "source": []
  }
 ],
 "metadata": {
  "kernelspec": {
   "display_name": "Python 2",
   "language": "python",
   "name": "python2"
  },
  "language_info": {
   "codemirror_mode": {
    "name": "ipython",
    "version": 2
   },
   "file_extension": ".py",
   "mimetype": "text/x-python",
   "name": "python",
   "nbconvert_exporter": "python",
   "pygments_lexer": "ipython2",
   "version": "2.7.12"
  }
 },
 "nbformat": 4,
 "nbformat_minor": 0
}
